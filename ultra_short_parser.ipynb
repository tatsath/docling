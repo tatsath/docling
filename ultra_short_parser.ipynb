{
  "cells": [
    {
      "cell_type": "markdown",
      "metadata": {},
      "source": [
        "# Minimal OCR Parser with GPU and Multiprocessing\n",
        "\n",
        "This notebook provides a minimal OCR parser that runs completely offline using Docling with GPU acceleration and multiprocessing support.\n"
      ]
    },
    {
      "cell_type": "code",
      "execution_count": null,
      "metadata": {},
      "outputs": [],
      "source": [
        "# Setup offline mode and imports\n",
        "import os\n",
        "import time\n",
        "import multiprocessing as mp\n",
        "from pathlib import Path\n",
        "from docling.datamodel.base_models import InputFormat\n",
        "from docling.datamodel.pipeline_options import EasyOcrOptions, PdfPipelineOptions\n",
        "from docling.document_converter import DocumentConverter, PdfFormatOption\n",
        "\n",
        "# Setup offline mode\n",
        "os.environ[\"DOCLING_ARTIFACTS_PATH\"] = os.path.expanduser(\"~/.cache/docling/models\")\n",
        "os.environ[\"HF_HUB_OFFLINE\"] = \"1\"\n",
        "os.environ[\"TRANSFORMERS_OFFLINE\"] = \"1\"\n",
        "\n",
        "print(\"✅ Environment setup complete - Running in offline mode\")\n"
      ]
    },
    {
      "cell_type": "code",
      "execution_count": null,
      "metadata": {},
      "outputs": [],
      "source": [
        "def process_pdf(pdf_path):\n",
        "    \"\"\"Process PDF with OCR on GPU\"\"\"\n",
        "    print(f\"🔍 OCR processing {Path(pdf_path).name}...\")\n",
        "    start = time.time()\n",
        "    \n",
        "    # OCR Pipeline with GPU\n",
        "    pipeline = PdfPipelineOptions(\n",
        "        artifacts_path=os.environ[\"DOCLING_ARTIFACTS_PATH\"],\n",
        "        enable_remote_services=False, \n",
        "        do_table_structure=True, \n",
        "        do_ocr=True, \n",
        "        do_chunking=True\n",
        "    )\n",
        "    pipeline.ocr_options = EasyOcrOptions(use_gpu=True, lang=['en'])\n",
        "    converter = DocumentConverter({InputFormat.PDF: PdfFormatOption(pipeline_options=pipeline)})\n",
        "    result = converter.convert(pdf_path)\n",
        "    \n",
        "    doc = result.document\n",
        "    text = doc.export_to_text()\n",
        "    markdown = doc.export_to_markdown()\n",
        "    \n",
        "    # Save files\n",
        "    os.makedirs(\"output\", exist_ok=True)\n",
        "    base = Path(pdf_path).stem\n",
        "    with open(f\"output/{base}_ocr.txt\", \"w\") as f: \n",
        "        f.write(text)\n",
        "    with open(f\"output/{base}_ocr.md\", \"w\") as f: \n",
        "        f.write(markdown)\n",
        "    \n",
        "    # Stats\n",
        "    stats = {\n",
        "        \"time\": time.time() - start,\n",
        "        \"text\": len(text),\n",
        "        \"tables\": len(doc.tables) if hasattr(doc, 'tables') else 0,\n",
        "        \"images\": len(doc.pictures) if hasattr(doc, 'pictures') else 0,\n",
        "        \"pages\": len(doc.pages) if hasattr(doc, 'pages') else 0\n",
        "    }\n",
        "    \n",
        "    print(f\"✅ OCR: {stats['time']:.1f}s, {stats['text']} chars, {stats['tables']} tables, {stats['images']} images\")\n",
        "    return stats\n"
      ]
    },
    {
      "cell_type": "code",
      "execution_count": null,
      "metadata": {},
      "outputs": [],
      "source": [
        "# Configuration\n",
        "pdf_file = \"companies_house_document.pdf\"  # Change this to your PDF file\n",
        "processes = 2  # Number of processes for multiprocessing\n",
        "\n",
        "print(\"🚀 MINIMAL OCR PARSER (GPU + MULTIPROCESSING)\")\n",
        "print(f\"📄 File: {pdf_file} | ⚡ Processes: {processes}\")\n",
        "print(\"=\" * 50)\n"
      ]
    },
    {
      "cell_type": "code",
      "execution_count": null,
      "metadata": {},
      "outputs": [],
      "source": [
        "# Run OCR processing\n",
        "start_time = time.time()\n",
        "print(f\"⏰ START TIME: {time.strftime('%H:%M:%S', time.localtime(start_time))}\")\n",
        "\n",
        "if processes > 1:\n",
        "    with mp.Pool(processes=processes) as pool:\n",
        "        results = pool.map(process_pdf, [pdf_file] * processes)\n",
        "else:\n",
        "    results = [process_pdf(pdf_file)]\n",
        "\n",
        "end_time = time.time()\n",
        "print(f\"⏰ END TIME: {time.strftime('%H:%M:%S', time.localtime(end_time))}\")\n",
        "print(f\"⏱️  TOTAL TIME: {end_time - start_time:.1f}s\")\n",
        "print(\"📁 Output: output/\")\n",
        "print(f\"📊 Processed {len(results)} times\")\n"
      ]
    },
    {
      "cell_type": "code",
      "execution_count": null,
      "metadata": {},
      "outputs": [],
      "source": [
        "# Display results summary\n",
        "print(\"\\n📊 DETAILED RESULTS:\")\n",
        "for i, result in enumerate(results, 1):\n",
        "    print(f\"Run {i}: {result['time']:.1f}s | Text: {result['text']} chars | Tables: {result['tables']} | Images: {result['images']} | Pages: {result['pages']}\")\n",
        "\n",
        "if len(results) > 1:\n",
        "    avg_time = sum(r['time'] for r in results) / len(results)\n",
        "    print(f\"\\n📈 Average processing time: {avg_time:.1f}s\")\n"
      ]
    },
    {
      "cell_type": "code",
      "execution_count": null,
      "metadata": {},
      "outputs": [],
      "source": [
        "# Check output files\n",
        "output_dir = Path(\"output\")\n",
        "if output_dir.exists():\n",
        "    print(\"📁 Generated files:\")\n",
        "    for file in output_dir.glob(\"*\"):\n",
        "        size = file.stat().st_size\n",
        "        print(f\"  - {file.name} ({size:,} bytes)\")\n",
        "else:\n",
        "    print(\"❌ No output directory found\")\n"
      ]
    },
    {
      "cell_type": "markdown",
      "metadata": {},
      "source": [
        "## Usage Instructions\n",
        "\n",
        "1. **Change the PDF file**: Modify the `pdf_file` variable in the configuration cell\n",
        "2. **Adjust processes**: Change the `processes` variable to control multiprocessing\n",
        "3. **Run all cells**: Execute all cells in order\n",
        "4. **Check output**: Results are saved in the `output/` directory\n",
        "\n",
        "## Features\n",
        "\n",
        "- ✅ **Completely offline** - No internet connection required\n",
        "- ✅ **GPU acceleration** - Uses CUDA for faster OCR processing\n",
        "- ✅ **Multiprocessing** - Parallel processing for multiple runs\n",
        "- ✅ **Table extraction** - Extracts tables from PDFs\n",
        "- ✅ **Image detection** - Identifies images in documents\n",
        "- ✅ **Multiple formats** - Outputs both text and markdown\n",
        "- ✅ **Timing information** - Shows start/end times and duration\n"
      ]
    }
  ],
  "metadata": {
    "language_info": {
      "name": "python"
    }
  },
  "nbformat": 4,
  "nbformat_minor": 2
}
